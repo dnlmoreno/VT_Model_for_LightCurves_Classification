{
 "cells": [
  {
   "cell_type": "code",
   "execution_count": 2,
   "metadata": {},
   "outputs": [
    {
     "name": "stdout",
     "output_type": "stream",
     "text": [
      "/home/users/dmoreno2016/VisionTransformers\n"
     ]
    }
   ],
   "source": [
    "%cd ../"
   ]
  },
  {
   "cell_type": "code",
   "execution_count": 12,
   "metadata": {},
   "outputs": [
    {
     "name": "stdout",
     "output_type": "stream",
     "text": [
      "Experiment ID for 'ft_classification/macho/best_params': 887536164124160171\n",
      "Corridas huérfanas encontradas y eliminadas:\n",
      "Eliminando: results_v1/887536164124160171/f7a30201e9bb4662840728f159235068\n",
      "Eliminando: results_v1/887536164124160171/30212c80ea9d42a485455dca6db599c0\n",
      "Eliminando: results_v1/887536164124160171/e81a67be6a524d28bce4750c363a2812\n",
      "Eliminando: results_v1/887536164124160171/4368f2965ee94827903b3eb3c395756e\n"
     ]
    }
   ],
   "source": [
    "import os\n",
    "import shutil\n",
    "import mlflow\n",
    "from mlflow.tracking import MlflowClient\n",
    "\n",
    "def get_mlflow_runs(experiment_id):\n",
    "    \"\"\" Obtener los IDs de las corridas activas de MLflow para un experimento específico. \"\"\"\n",
    "    client = MlflowClient()\n",
    "    runs = client.search_runs(experiment_ids=[experiment_id])\n",
    "    return {run.info.run_id for run in runs}\n",
    "\n",
    "def get_filesystem_runs(directory):\n",
    "    \"\"\" Obtener los IDs de las corridas desde los directorios del sistema de archivos. \"\"\"\n",
    "    return {run_id for run_id in os.listdir(directory) if os.path.isdir(os.path.join(directory, run_id))}\n",
    "\n",
    "def main(mlflow_directory, experiment_id):\n",
    "    \"\"\" Compara los IDs de las corridas en MLflow y en el sistema de archivos, eliminando las huérfanas. \"\"\"\n",
    "    mlflow_runs = get_mlflow_runs(experiment_id)\n",
    "    filesystem_runs = get_filesystem_runs(mlflow_directory)\n",
    "    \n",
    "    # Encuentra corridas en el sistema de archivos que no están en MLflow\n",
    "    orphaned_runs = filesystem_runs - mlflow_runs\n",
    "    \n",
    "    if orphaned_runs:\n",
    "        print(\"Corridas huérfanas encontradas y eliminadas:\")\n",
    "        for run_id in orphaned_runs:\n",
    "            run_path = os.path.join(mlflow_directory, run_id)\n",
    "            print(f\"Eliminando: {run_path}\")\n",
    "            shutil.rmtree(run_path)  # Elimina el directorio y su contenido\n",
    "    else:\n",
    "        print(\"No se encontraron corridas huérfanas.\")\n",
    "\n",
    "# Configuración de MLflow\n",
    "data_name = 'macho'\n",
    "experiment_name = f\"ft_classification/{data_name}/best_params\"\n",
    "\n",
    "experiment = mlflow.get_experiment_by_name(experiment_name)\n",
    "if experiment:\n",
    "    experiment_id = experiment.experiment_id\n",
    "    print(f\"Experiment ID for '{experiment_name}': {experiment_id}\")\n",
    "\n",
    "    mlflow_directory = f\"results_v1/{experiment_id}\" \n",
    "    if os.path.exists(mlflow_directory):  # Verificar que la carpeta existe antes de continuar\n",
    "        main(mlflow_directory, experiment_id)\n",
    "    else:\n",
    "        print(f\"La carpeta {mlflow_directory} no existe.\")\n",
    "else:\n",
    "    print(f\"Experiment '{experiment_name}' not found.\")"
   ]
  },
  {
   "cell_type": "code",
   "execution_count": null,
   "metadata": {},
   "outputs": [],
   "source": []
  }
 ],
 "metadata": {
  "kernelspec": {
   "display_name": "VLT",
   "language": "python",
   "name": "python3"
  },
  "language_info": {
   "codemirror_mode": {
    "name": "ipython",
    "version": 3
   },
   "file_extension": ".py",
   "mimetype": "text/x-python",
   "name": "python",
   "nbconvert_exporter": "python",
   "pygments_lexer": "ipython3",
   "version": "3.11.5"
  }
 },
 "nbformat": 4,
 "nbformat_minor": 2
}
