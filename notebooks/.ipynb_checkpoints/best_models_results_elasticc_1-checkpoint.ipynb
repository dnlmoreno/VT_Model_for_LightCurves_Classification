{
 "cells": [
  {
   "cell_type": "code",
   "execution_count": 1,
   "metadata": {},
   "outputs": [
    {
     "name": "stdout",
     "output_type": "stream",
     "text": [
      "/app\n"
     ]
    },
    {
     "name": "stderr",
     "output_type": "stream",
     "text": [
      "/usr/local/lib/python3.10/dist-packages/IPython/core/magics/osm.py:417: UserWarning: This is now an optional IPython functionality, setting dhist requires you to install the `pickleshare` library.\n",
      "  self.shell.db['dhist'] = compress_dhist(dhist)[-100:]\n"
     ]
    }
   ],
   "source": [
    "%cd ../"
   ]
  },
  {
   "cell_type": "code",
   "execution_count": 2,
   "metadata": {},
   "outputs": [],
   "source": [
    "import mlflow\n",
    "import pandas as pd\n",
    "import matplotlib.pyplot as plt\n",
    "import os\n",
    "#os.environ[\"PATH\"] = \"/home/users/dmoreno2016/.TinyTeX/bin/x86_64-linux:\" + os.environ[\"PATH\"]\n",
    "\n",
    "plt.rcParams.update({\n",
    "    \"text.usetex\": True,\n",
    "    \"pgf.texsystem\": \"pdflatex\",\n",
    "    \"font.family\": \"serif\",\n",
    "    \"font.serif\": [\"Palatino\"],\n",
    "})\n",
    "\n",
    "\n",
    "import warnings\n",
    "warnings.filterwarnings('ignore')"
   ]
  },
  {
   "cell_type": "code",
   "execution_count": 3,
   "metadata": {},
   "outputs": [],
   "source": [
    "mlflow.set_tracking_uri(\"file:./results/elasticc_1/ml-runs\")"
   ]
  },
  {
   "cell_type": "code",
   "execution_count": 4,
   "metadata": {},
   "outputs": [
    {
     "name": "stdout",
     "output_type": "stream",
     "text": [
      "Experiment ID for 'ft_classification/elasticc_1/best_params': 893539322704437943\n"
     ]
    },
    {
     "data": {
      "text/html": [
       "<div>\n",
       "<style scoped>\n",
       "    .dataframe tbody tr th:only-of-type {\n",
       "        vertical-align: middle;\n",
       "    }\n",
       "\n",
       "    .dataframe tbody tr th {\n",
       "        vertical-align: top;\n",
       "    }\n",
       "\n",
       "    .dataframe thead th {\n",
       "        text-align: right;\n",
       "    }\n",
       "</style>\n",
       "<table border=\"1\" class=\"dataframe\">\n",
       "  <thead>\n",
       "    <tr style=\"text-align: right;\">\n",
       "      <th></th>\n",
       "      <th>Linewidth</th>\n",
       "      <th>Markersize</th>\n",
       "      <th>Input Type</th>\n",
       "      <th>Use Error</th>\n",
       "      <th>Learning Rate</th>\n",
       "      <th>avg_f1/test</th>\n",
       "      <th>std_f1/test</th>\n",
       "      <th>avg_loss/test</th>\n",
       "      <th>std_loss/test</th>\n",
       "      <th>avg_training_time</th>\n",
       "      <th>std_training_time</th>\n",
       "    </tr>\n",
       "  </thead>\n",
       "  <tbody>\n",
       "    <tr>\n",
       "      <th>0</th>\n",
       "      <td>0.5</td>\n",
       "      <td>2.0</td>\n",
       "      <td>overlay</td>\n",
       "      <td>True</td>\n",
       "      <td>5e-06</td>\n",
       "      <td>0.654629</td>\n",
       "      <td>0.003125</td>\n",
       "      <td>1.741529</td>\n",
       "      <td>0.170650</td>\n",
       "      <td>3 days 08:51:12.173800</td>\n",
       "      <td>0 days 12:05:52.932924425</td>\n",
       "    </tr>\n",
       "    <tr>\n",
       "      <th>1</th>\n",
       "      <td>2.0</td>\n",
       "      <td>5.0</td>\n",
       "      <td>6grid</td>\n",
       "      <td>True</td>\n",
       "      <td>5e-06</td>\n",
       "      <td>0.646481</td>\n",
       "      <td>0.002407</td>\n",
       "      <td>1.886240</td>\n",
       "      <td>0.191334</td>\n",
       "      <td>5 days 09:24:59.331500</td>\n",
       "      <td>1 days 23:03:00.229608197</td>\n",
       "    </tr>\n",
       "  </tbody>\n",
       "</table>\n",
       "</div>"
      ],
      "text/plain": [
       "  Linewidth Markersize Input Type Use Error Learning Rate  avg_f1/test  \\\n",
       "0       0.5        2.0    overlay      True         5e-06     0.654629   \n",
       "1       2.0        5.0      6grid      True         5e-06     0.646481   \n",
       "\n",
       "   std_f1/test  avg_loss/test  std_loss/test      avg_training_time  \\\n",
       "0     0.003125       1.741529       0.170650 3 days 08:51:12.173800   \n",
       "1     0.002407       1.886240       0.191334 5 days 09:24:59.331500   \n",
       "\n",
       "          std_training_time  \n",
       "0 0 days 12:05:52.932924425  \n",
       "1 1 days 23:03:00.229608197  "
      ]
     },
     "execution_count": 4,
     "metadata": {},
     "output_type": "execute_result"
    }
   ],
   "source": [
    "data_name =  'elasticc_1'\n",
    "experiment_name = f\"ft_classification/{data_name}/best_params\"\n",
    "\n",
    "experiment = mlflow.get_experiment_by_name(experiment_name)\n",
    "if experiment:\n",
    "    experiment_id = experiment.experiment_id\n",
    "    print(f\"Experiment ID for '{experiment_name}': {experiment_id}\")\n",
    "else:\n",
    "    print(f\"Experiment '{experiment_name}' not found.\")\n",
    "\n",
    "runs = mlflow.search_runs(experiment_ids=[experiment_id])\n",
    "\n",
    "order_columns = [\n",
    "    'run_id',\n",
    "    'status',\n",
    "    'metrics.epoch',\n",
    "    'metrics.f1/test',\n",
    "    'metrics.loss/test',\n",
    "    'params.imgs_params/fig_params/linewidth',\n",
    "    'params.imgs_params/fig_params/markersize',\n",
    "    'params.imgs_params/input_type',\n",
    "    'params.imgs_params/use_err',\n",
    "    'params.training/lr',\n",
    "    'start_time',\n",
    "    'end_time',\n",
    "]\n",
    "\n",
    "show_df = runs[order_columns]\n",
    "show_df.loc[:, 'training_time'] = show_df['end_time'] - show_df['start_time']\n",
    "cols = show_df.columns.tolist()\n",
    "cols.insert(2, cols.pop(cols.index('training_time')))\n",
    "show_df = show_df[cols].drop(['end_time', 'start_time'], axis=1)\n",
    "show_df = show_df.sort_values(by=['metrics.f1/test'], ascending=False)\n",
    "\n",
    "group_columns = [\n",
    "    'params.imgs_params/fig_params/linewidth',\n",
    "    'params.imgs_params/fig_params/markersize',\n",
    "    'params.imgs_params/input_type',\n",
    "    'params.imgs_params/use_err',\n",
    "    'params.training/lr',\n",
    "]\n",
    "\n",
    "# Calculating the mean for metrics within each group\n",
    "elasticc_1_stats = show_df.groupby(group_columns).agg({\n",
    "    'metrics.f1/test': ['mean', 'std'],\n",
    "    'metrics.loss/test': ['mean', 'std'],\n",
    "    'training_time': ['mean', 'std']\n",
    "}).reset_index()\n",
    "\n",
    "# Adjusting the rename dictionary to handle tuple column names\n",
    "rename_dict = {\n",
    "    ('params.imgs_params/fig_params/linewidth', ''): 'Linewidth',\n",
    "    ('params.imgs_params/fig_params/markersize', ''): 'Markersize',\n",
    "    ('params.imgs_params/input_type', ''): 'Input Type',\n",
    "    ('params.imgs_params/use_err', ''): 'Use Error',\n",
    "    ('params.training/lr', ''): 'Learning Rate',\n",
    "    ('metrics.f1/test', 'mean'): 'avg_f1/test',\n",
    "    ('metrics.f1/test', 'std'): 'std_f1/test',\n",
    "    ('metrics.loss/test', 'mean'): 'avg_loss/test',\n",
    "    ('metrics.loss/test', 'std'): 'std_loss/test',\n",
    "    ('training_time', 'mean'): 'avg_training_time',\n",
    "    ('training_time', 'std'): 'std_training_time',\n",
    "}\n",
    "\n",
    "# Renaming columns using the adjusted dictionary\n",
    "elasticc_1_stats.columns = [rename_dict.get(col, col) for col in elasticc_1_stats.columns]\n",
    "elasticc_1_stats"
   ]
  },
  {
   "cell_type": "code",
   "execution_count": null,
   "metadata": {},
   "outputs": [],
   "source": []
  }
 ],
 "metadata": {
  "kernelspec": {
   "display_name": "Python 3 (ipykernel)",
   "language": "python",
   "name": "python3"
  },
  "language_info": {
   "codemirror_mode": {
    "name": "ipython",
    "version": 3
   },
   "file_extension": ".py",
   "mimetype": "text/x-python",
   "name": "python",
   "nbconvert_exporter": "python",
   "pygments_lexer": "ipython3",
   "version": "3.10.12"
  }
 },
 "nbformat": 4,
 "nbformat_minor": 4
}
