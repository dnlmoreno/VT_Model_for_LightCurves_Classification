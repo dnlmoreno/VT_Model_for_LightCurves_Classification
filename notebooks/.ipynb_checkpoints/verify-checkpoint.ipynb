{
 "cells": [
  {
   "cell_type": "code",
   "execution_count": null,
   "metadata": {},
   "outputs": [],
   "source": [
    "%cd ../"
   ]
  },
  {
   "cell_type": "code",
   "execution_count": null,
   "metadata": {},
   "outputs": [],
   "source": [
    "import pandas as pd\n",
    "\n",
    "from src.data.utils import get_dataset\n",
    "from scripts.utils import load_yaml"
   ]
  },
  {
   "cell_type": "code",
   "execution_count": null,
   "metadata": {},
   "outputs": [],
   "source": [
    "name_dataset = 'alcock_multiband'\n",
    "\n",
    "path_data = 'data/lightcurves/alcock_multiband'\n",
    "dataset_config = load_yaml('configs/datasets_config.yaml')[name_dataset]"
   ]
  }
 ],
 "metadata": {
  "language_info": {
   "name": "python"
  }
 },
 "nbformat": 4,
 "nbformat_minor": 2
}
