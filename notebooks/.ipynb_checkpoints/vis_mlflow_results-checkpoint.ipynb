{
 "cells": [
  {
   "cell_type": "code",
   "execution_count": null,
   "metadata": {},
   "outputs": [],
   "source": [
    "%cd ../"
   ]
  },
  {
   "cell_type": "code",
   "execution_count": null,
   "metadata": {},
   "outputs": [],
   "source": [
    "import mlflow\n",
    "import pandas as pd\n",
    "import matplotlib.pyplot as plt\n",
    "\n",
    "import warnings\n",
    "warnings.filterwarnings('ignore')"
   ]
  },
  {
   "cell_type": "code",
   "execution_count": null,
   "metadata": {},
   "outputs": [],
   "source": [
    "mlflow.set_tracking_uri(\"file:./results/ml-runs\")"
   ]
  },
  {
   "cell_type": "code",
   "execution_count": null,
   "metadata": {},
   "outputs": [],
   "source": [
    "data_name =  'alcock_multiband'\n",
    "experiment_name = f\"ft_classification/{data_name}/testing\""
   ]
  },
  {
   "cell_type": "code",
   "execution_count": null,
   "metadata": {},
   "outputs": [],
   "source": [
    "experiment = mlflow.get_experiment_by_name(experiment_name)\n",
    "if experiment:\n",
    "    experiment_id = experiment.experiment_id\n",
    "    print(f\"Experiment ID for '{experiment_name}': {experiment_id}\")\n",
    "else:\n",
    "    print(f\"Experiment '{experiment_name}' not found.\")"
   ]
  },
  {
   "cell_type": "code",
   "execution_count": null,
   "metadata": {},
   "outputs": [],
   "source": [
    "runs = mlflow.search_runs(experiment_ids=[experiment_id])\n",
    "runs.columns"
   ]
  },
  {
   "cell_type": "code",
   "execution_count": null,
   "metadata": {},
   "outputs": [],
   "source": [
    "# Filtrar las corridas que coincidan con los parámetros especificados\n",
    "filtered_runs = runs[\n",
    "    (runs['params.loader/spc'] == '20') &\n",
    "]\n",
    "\n",
    "filtered_runs = runs.dropna()"
   ]
  },
  {
   "cell_type": "code",
   "execution_count": null,
   "metadata": {},
   "outputs": [],
   "source": [
    "order_columns = [\n",
    "    'imgs_params/fig_params/linewidth',\n",
    "    'imgs_params/fig_params/markersize',\n",
    "    'imgs_params/input_type',\n",
    "    'imgs_params/use_err',\n",
    "    'training/lr',\n",
    "    'metrics.epoch',\n",
    "    'metrics.f1/test',\n",
    "    'metrics.loss/test', \n",
    "    #'metrics.f1/val',\n",
    "    #'metrics.loss/val', \n",
    "    #'metrics.f1/train',\n",
    "    #'metrics.loss/train', \n",
    "    'start_time',\n",
    "    'end_time',\n",
    "]\n",
    "\n",
    "show_df = filtered_runs[order_columns]\n",
    "show_df.loc[:, 'training_time'] = show_df['end_time'] - show_df['start_time']\n",
    "cols = show_df.columns.tolist()\n",
    "cols.insert(2, cols.pop(cols.index('training_time')))\n",
    "show_df = show_df[cols].drop(['end_time', 'start_time'], axis=1)\n",
    "show_df = show_df.sort_values(by=['params.model_name'])\n",
    "show_df"
   ]
  }
 ],
 "metadata": {
  "language_info": {
   "name": "python"
  }
 },
 "nbformat": 4,
 "nbformat_minor": 2
}
