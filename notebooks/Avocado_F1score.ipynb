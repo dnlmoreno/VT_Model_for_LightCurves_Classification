{
 "cells": [
  {
   "cell_type": "code",
   "execution_count": 3,
   "metadata": {},
   "outputs": [
    {
     "name": "stdout",
     "output_type": "stream",
     "text": [
      "/home/users/dmoreno2016/VisionTransformers\n"
     ]
    }
   ],
   "source": [
    "%cd .."
   ]
  },
  {
   "cell_type": "code",
   "execution_count": 4,
   "metadata": {},
   "outputs": [],
   "source": [
    "import pandas as pd\n",
    "import numpy as np"
   ]
  },
  {
   "cell_type": "code",
   "execution_count": 5,
   "metadata": {},
   "outputs": [],
   "source": [
    "dict_mapping_real_classes = {\n",
    "    6: 'Single u-lens',\n",
    "    15: 'TDE',\n",
    "    16: 'Eclip. Binary',\n",
    "    42: 'SNII',\n",
    "    52: 'SNIax',\n",
    "    53: 'Mira',\n",
    "    62: 'SNIbc',\n",
    "    64: 'Kilonova',\n",
    "    65: 'M-dwarf',\n",
    "    67: 'SNIa-91bg',\n",
    "    88: 'AGN',\n",
    "    90: 'SNIa',\n",
    "    92: 'RR lyrae',\n",
    "    95: 'SLSN-I',\n",
    "}"
   ]
  },
  {
   "cell_type": "code",
   "execution_count": 6,
   "metadata": {},
   "outputs": [],
   "source": [
    "real_class_counts = {\n",
    "    'Single u-lens': 1303,  \n",
    "    'TDE': 13555,  \n",
    "    'Eclip. Binary': 96572,  \n",
    "    'SNII': 1000150, \n",
    "    'SNIax': 63664,   \n",
    "    'Mira': 1453,  \n",
    "    'SNIbc': 175094,  \n",
    "    'Kilonova': 133,   \n",
    "    'M-dwarf': 93494, \n",
    "    'SNIa-91bg': 40193, \n",
    "    'AGN': 101424,\n",
    "    'SNIa': 1659831,\n",
    "    'RR lyrae': 197155,\n",
    "    'SLSN-I': 35782 \n",
    "}\n",
    "\n",
    "# Segun yo contaron mal\n",
    "avocado_class_counts = {\n",
    "    'Single u-lens': 1303,  \n",
    "    'TDE': 13555,  \n",
    "    'Eclip. Binary': 96472,  \n",
    "    'SNII': 1000150, \n",
    "    'SNIax': 63664,   \n",
    "    'Mira': 1453,  \n",
    "    'SNIbc': 175094,  \n",
    "    'Kilonova': 131,   \n",
    "    'M-dwarf': 93494, \n",
    "    'SNIa-91bg': 40193, \n",
    "    'AGN': 101424,\n",
    "    'SNIa': 1659831,\n",
    "    'RR lyrae': 197155,\n",
    "    'SLSN-I': 35782 \n",
    "}"
   ]
  },
  {
   "cell_type": "code",
   "execution_count": 7,
   "metadata": {},
   "outputs": [],
   "source": [
    "confusion_matrix = {\n",
    "    'Single u-lens': [0.88, 0.00, 0.01, 0.00, 0.00, 0.00, 0.00, 0.00, 0.11, 0.00, 0.00, 0.00, 0.00, 0.00],\n",
    "    'TDE':           [0.00, 0.91, 0.00, 0.02, 0.01, 0.00, 0.00, 0.00, 0.00, 0.01, 0.02, 0.02, 0.00, 0.00],\n",
    "    'Eclip. Binary': [0.00, 0.00, 0.97, 0.00, 0.00, 0.00, 0.00, 0.00, 0.00, 0.00, 0.00, 0.00, 0.02, 0.00],\n",
    "    'SNII':          [0.00, 0.04, 0.00, 0.65, 0.09, 0.00, 0.06, 0.01, 0.00, 0.03, 0.00, 0.10, 0.00, 0.01],\n",
    "    'SNIax':         [0.00, 0.02, 0.00, 0.08, 0.42, 0.00, 0.10, 0.01, 0.00, 0.10, 0.00, 0.27, 0.00, 0.00],\n",
    "    'Mira':          [0.01, 0.00, 0.00, 0.00, 0.00, 0.99, 0.00, 0.00, 0.00, 0.00, 0.00, 0.00, 0.00, 0.00],\n",
    "    'SNIbc':         [0.00, 0.01, 0.00, 0.08, 0.11, 0.00, 0.52, 0.02, 0.00, 0.17, 0.00, 0.08, 0.00, 0.01],\n",
    "    'Kilonova':      [0.00, 0.00, 0.00, 0.01, 0.01, 0.00, 0.04, 0.93, 0.00, 0.01, 0.00, 0.01, 0.00, 0.00],\n",
    "    'M-dwarf':       [0.00, 0.00, 0.00, 0.00, 0.00, 0.00, 0.00, 0.00, 0.99, 0.00, 0.00, 0.00, 0.00, 0.00],\n",
    "    'SNIa-91bg':     [0.00, 0.01, 0.00, 0.02, 0.04, 0.00, 0.11, 0.01, 0.00, 0.77, 0.00, 0.05, 0.00, 0.00],\n",
    "    'AGN':           [0.00, 0.05, 0.00, 0.02, 0.01, 0.00, 0.01, 0.00, 0.00, 0.01, 0.90, 0.01, 0.00, 0.00],\n",
    "    'SNIa':          [0.00, 0.02, 0.00, 0.03, 0.03, 0.00, 0.02, 0.00, 0.00, 0.06, 0.00, 0.83, 0.00, 0.01],\n",
    "    'RR lyrae':      [0.00, 0.00, 0.02, 0.00, 0.00, 0.00, 0.00, 0.00, 0.00, 0.00, 0.00, 0.00, 0.97, 0.00],\n",
    "    'SLSN-I':        [0.00, 0.01, 0.00, 0.03, 0.00, 0.00, 0.02, 0.00, 0.00, 0.00, 0.01, 0.02, 0.00, 0.92],\n",
    "}\n"
   ]
  },
  {
   "cell_type": "code",
   "execution_count": 8,
   "metadata": {},
   "outputs": [
    {
     "name": "stdout",
     "output_type": "stream",
     "text": [
      "F1 scores for real_class_counts:\n",
      "F1 score for Single u-lens: 0.9307\n",
      "F1 score for TDE: 0.2288\n",
      "F1 score for Eclip. Binary: 0.9695\n",
      "F1 score for SNII: 0.7589\n",
      "F1 score for SNIax: 0.2120\n",
      "F1 score for Mira: 0.9950\n",
      "F1 score for SNIbc: 0.4897\n",
      "F1 score for Kilonova: 0.0167\n",
      "F1 score for M-dwarf: 0.9992\n",
      "F1 score for SNIa-91bg: 0.2596\n",
      "F1 score for AGN: 0.9394\n",
      "F1 score for SNIa: 0.8684\n",
      "F1 score for RR lyrae: 0.9849\n",
      "F1 score for SLSN-I: 0.6759\n",
      "Macro F1 score: 0.6663\n",
      "\n",
      "F1 scores for avocado_class_counts:\n",
      "F1 score for Single u-lens: 0.9307\n",
      "F1 score for TDE: 0.2288\n",
      "F1 score for Eclip. Binary: 0.9695\n",
      "F1 score for SNII: 0.7589\n",
      "F1 score for SNIax: 0.2120\n",
      "F1 score for Mira: 0.9950\n",
      "F1 score for SNIbc: 0.4897\n",
      "F1 score for Kilonova: 0.0165\n",
      "F1 score for M-dwarf: 0.9992\n",
      "F1 score for SNIa-91bg: 0.2596\n",
      "F1 score for AGN: 0.9394\n",
      "F1 score for SNIa: 0.8684\n",
      "F1 score for RR lyrae: 0.9849\n",
      "F1 score for SLSN-I: 0.6759\n",
      "Macro F1 score: 0.6663\n"
     ]
    }
   ],
   "source": [
    "# Función para calcular el F1 score por clase y el F1 macro\n",
    "def calculate_f1_scores(class_counts, confusion_matrix):\n",
    "    f1_scores = []\n",
    "    classes = list(class_counts.keys())\n",
    "    \n",
    "    for i, class_name in enumerate(classes):\n",
    "        tp = confusion_matrix[class_name][i] * class_counts[class_name]\n",
    "        fp = sum([confusion_matrix[other_class][i] * class_counts[other_class] for other_class in classes if other_class != class_name])\n",
    "        fn = sum([confusion_matrix[class_name][j] * class_counts[class_name] for j in range(len(classes)) if j != i])\n",
    "        f1 = tp / (tp + 0.5 * (fp + fn)) if tp + 0.5 * (fp + fn) != 0 else 0\n",
    "        f1_scores.append(f1)\n",
    "        print(f\"F1 score for {class_name}: {f1:.4f}\")\n",
    "    \n",
    "    f1_macro = np.mean(f1_scores)\n",
    "    print(f\"Macro F1 score: {f1_macro:.4f}\")\n",
    "    return f1_scores, f1_macro\n",
    "\n",
    "# Calcular F1 scores para real_class_counts\n",
    "print(\"F1 scores for real_class_counts:\")\n",
    "f1_real, f1_macro_real = calculate_f1_scores(real_class_counts, confusion_matrix)\n",
    "\n",
    "print(\"\\nF1 scores for avocado_class_counts:\")\n",
    "# Calcular F1 scores para avocado_class_counts\n",
    "f1_avocado, f1_macro_avocado = calculate_f1_scores(avocado_class_counts, confusion_matrix)"
   ]
  },
  {
   "cell_type": "code",
   "execution_count": null,
   "metadata": {},
   "outputs": [],
   "source": []
  },
  {
   "cell_type": "code",
   "execution_count": 9,
   "metadata": {},
   "outputs": [],
   "source": [
    "real_class_counts = {\n",
    "    'Single u-lens': 31,  # 1303  \n",
    "    'TDE': 99,  # 13555  \n",
    "    'Eclip. Binary': 184,  # 96572  \n",
    "    'SNII': 239,  # 1000150  \n",
    "    'SNIax': 36,  # 63664  \n",
    "    'Mira': 6,  # 1453  \n",
    "    'SNIbc': 97,  # 175094  \n",
    "    'Kilonova': 20,  # 133  \n",
    "    'M-dwarf': 197,  # 93494  \n",
    "    'SNIa-91bg': 42,  # 40193  \n",
    "    'AGN': 74,  # 101424  \n",
    "    'SNIa': 462,  # 1659831  \n",
    "    'RR lyrae': 48,  # 197155  \n",
    "    'SLSN-I': 35,  # 35782  \n",
    "}\n",
    "\n",
    "confusion_matrix = {\n",
    "    'Single u-lens': [0.65, 0.00, 0.06, 0.03, 0.00, 0.00, 0.03, 0.00, 0.03, 0.10, 0.00, 0.06, 0.00, 0.03],\n",
    "    'TDE':           [0.00, 0.84, 0.00, 0.03, 0.00, 0.00, 0.02, 0.00, 0.00, 0.00, 0.02, 0.08, 0.00, 0.01],\n",
    "    'Eclip. Binary': [0.01, 0.00, 0.97, 0.00, 0.00, 0.00, 0.00, 0.00, 0.01, 0.00, 0.01, 0.00, 0.01, 0.00],\n",
    "    'SNII':          [0.00, 0.08, 0.00, 0.54, 0.03, 0.00, 0.08, 0.00, 0.01, 0.03, 0.00, 0.21, 0.00, 0.03],\n",
    "    'SNIax':         [0.00, 0.06, 0.00, 0.08, 0.22, 0.00, 0.08, 0.00, 0.03, 0.06, 0.00, 0.47, 0.00, 0.00],\n",
    "    'Mira':          [0.00, 0.00, 0.00, 0.00, 0.00, 1.00, 0.00, 0.00, 0.00, 0.00, 0.00, 0.00, 0.00, 0.00],\n",
    "    'SNIbc':         [0.01, 0.02, 0.00, 0.10, 0.06, 0.00, 0.52, 0.01, 0.00, 0.03, 0.00, 0.20, 0.00, 0.05],\n",
    "    'Kilonova':      [0.00, 0.05, 0.01, 0.00, 0.00, 0.00, 0.05, 0.50, 0.30, 0.00, 0.00, 0.10, 0.00, 0.00],\n",
    "    'M-dwarf':       [0.01, 0.01, 0.00, 0.00, 0.00, 0.00, 0.01, 0.06, 0.89, 0.00, 0.00, 0.03, 0.00, 0.00],\n",
    "    'SNIa-91bg':     [0.00, 0.00, 0.00, 0.05, 0.02, 0.00, 0.21, 0.01, 0.00, 0.33, 0.00, 0.38, 0.00, 0.00],\n",
    "    'AGN':           [0.00, 0.05, 0.00, 0.00, 0.00, 0.00, 0.00, 0.00, 0.00, 0.00, 0.95, 0.00, 0.00, 0.00],\n",
    "    'SNIa':          [0.01, 0.04, 0.00, 0.05, 0.02, 0.00, 0.04, 0.00, 0.00, 0.03, 0.00, 0.81, 0.00, 0.01],\n",
    "    'RR lyrae':      [0.00, 0.00, 0.02, 0.00, 0.00, 0.00, 0.00, 0.00, 0.00, 0.00, 0.00, 0.00, 0.98, 0.00],\n",
    "    'SLSN-I':        [0.00, 0.09, 0.00, 0.14, 0.03, 0.00, 0.11, 0.00, 0.00, 0.00, 0.00, 0.03, 0.00, 0.60],\n",
    "}\n"
   ]
  },
  {
   "cell_type": "code",
   "execution_count": 10,
   "metadata": {},
   "outputs": [
    {
     "name": "stdout",
     "output_type": "stream",
     "text": [
      "F1 scores for real_class_counts:\n",
      "F1 score for Single u-lens: 0.6690\n",
      "F1 score for TDE: 0.7117\n",
      "F1 score for Eclip. Binary: 0.9717\n",
      "F1 score for SNII: 0.6189\n",
      "F1 score for SNIax: 0.2328\n",
      "F1 score for Mira: 1.0000\n",
      "F1 score for SNIbc: 0.4886\n",
      "F1 score for Kilonova: 0.4607\n",
      "F1 score for M-dwarf: 0.9072\n",
      "F1 score for SNIa-91bg: 0.3259\n",
      "F1 score for AGN: 0.9492\n",
      "F1 score for SNIa: 0.7780\n",
      "F1 score for RR lyrae: 0.9711\n",
      "F1 score for SLSN-I: 0.5633\n",
      "Macro F1 score: 0.6892\n",
      "\n",
      "F1 scores for avocado_class_counts:\n",
      "F1 score for Single u-lens: 0.0757\n",
      "F1 score for TDE: 0.1212\n",
      "F1 score for Eclip. Binary: 0.9596\n",
      "F1 score for SNII: 0.6494\n",
      "F1 score for SNIax: 0.1828\n",
      "F1 score for Mira: 1.0000\n",
      "F1 score for SNIbc: 0.4222\n",
      "F1 score for Kilonova: 0.0165\n",
      "F1 score for M-dwarf: 0.8732\n",
      "F1 score for SNIa-91bg: 0.1862\n",
      "F1 score for AGN: 0.9683\n",
      "F1 score for SNIa: 0.8108\n",
      "F1 score for RR lyrae: 0.9875\n",
      "F1 score for SLSN-I: 0.3807\n",
      "Macro F1 score: 0.5453\n"
     ]
    }
   ],
   "source": [
    "# Función para calcular el F1 score por clase y el F1 macro\n",
    "def calculate_f1_scores(class_counts, confusion_matrix):\n",
    "    f1_scores = []\n",
    "    classes = list(class_counts.keys())\n",
    "    \n",
    "    for i, class_name in enumerate(classes):\n",
    "        tp = confusion_matrix[class_name][i] * class_counts[class_name]\n",
    "        fp = sum([confusion_matrix[other_class][i] * class_counts[other_class] for other_class in classes if other_class != class_name])\n",
    "        fn = sum([confusion_matrix[class_name][j] * class_counts[class_name] for j in range(len(classes)) if j != i])\n",
    "        f1 = tp / (tp + 0.5 * (fp + fn)) if tp + 0.5 * (fp + fn) != 0 else 0\n",
    "        f1_scores.append(f1)\n",
    "        print(f\"F1 score for {class_name}: {f1:.4f}\")\n",
    "    \n",
    "    f1_macro = np.mean(f1_scores)\n",
    "    print(f\"Macro F1 score: {f1_macro:.4f}\")\n",
    "    return f1_scores, f1_macro\n",
    "\n",
    "# Calcular F1 scores para real_class_counts\n",
    "print(\"F1 scores for real_class_counts:\")\n",
    "f1_real, f1_macro_real = calculate_f1_scores(real_class_counts, confusion_matrix)"
   ]
  },
  {
   "cell_type": "code",
   "execution_count": null,
   "metadata": {},
   "outputs": [],
   "source": []
  }
 ],
 "metadata": {
  "kernelspec": {
   "display_name": "base",
   "language": "python",
   "name": "python3"
  },
  "language_info": {
   "codemirror_mode": {
    "name": "ipython",
    "version": 3
   },
   "file_extension": ".py",
   "mimetype": "text/x-python",
   "name": "python",
   "nbconvert_exporter": "python",
   "pygments_lexer": "ipython3",
   "version": "3.11.5"
  }
 },
 "nbformat": 4,
 "nbformat_minor": 2
}
