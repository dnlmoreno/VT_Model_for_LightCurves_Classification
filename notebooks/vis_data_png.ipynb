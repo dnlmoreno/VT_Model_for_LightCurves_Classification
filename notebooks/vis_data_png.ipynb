{
 "cells": [
  {
   "cell_type": "code",
   "execution_count": 1,
   "metadata": {},
   "outputs": [
    {
     "name": "stdout",
     "output_type": "stream",
     "text": [
      "/home/users/dmoreno2016/VisionTransformers\n"
     ]
    }
   ],
   "source": [
    "%cd ../"
   ]
  },
  {
   "cell_type": "code",
   "execution_count": 2,
   "metadata": {},
   "outputs": [],
   "source": [
    "import pandas as pd\n",
    "import matplotlib.pyplot as plt\n",
    "import matplotlib.patches as patches"
   ]
  },
  {
   "cell_type": "code",
   "execution_count": 3,
   "metadata": {},
   "outputs": [],
   "source": [
    "all_bands = {\n",
    "    'u': 0, \n",
    "    'g': 1, \n",
    "    'r': 2, \n",
    "    'i': 3, \n",
    "    'z': 4, \n",
    "    'Y': 5,\n",
    "}\n",
    "\n",
    "dict_columns = {\n",
    "  'snid': 'SNID',\n",
    "  'mjd': 'MJD',\n",
    "  'flux': 'FLUXCAL',\n",
    "  'flux_err': 'FLUXCALERR',\n",
    "  'photflag': 'PHOTFLAG',\n",
    "  'band': 'BAND', \n",
    "  'label': 'label',\n",
    "}\n",
    "\n",
    "config = {\n",
    "  'norm_name': 'minmax_by_obj',\n",
    "  'use_err': False\n",
    "  }"
   ]
  },
  {
   "cell_type": "code",
   "execution_count": 4,
   "metadata": {},
   "outputs": [
    {
     "name": "stderr",
     "output_type": "stream",
     "text": [
      "/tmp/ipykernel_838720/2197119603.py:7: DeprecationWarning: DataFrameGroupBy.apply operated on the grouping columns. This behavior is deprecated, and in a future version of pandas the grouping columns will be excluded from the operation. Either pass `include_groups=False` to exclude the groupings or explicitly select the grouping columns after groupby to silence this warning.\n",
      "  first_detection_mjd = grouped.apply(lambda x: x[x['PHOTFLAG'].isin([4096, 6144])]['MJD'].min())\n"
     ]
    }
   ],
   "source": [
    "band_name = dict_columns['band']\n",
    "\n",
    "df = pd.read_parquet('data/lightcurves/elasticc_1/raw/lc_Cepheid.parquet')\n",
    "df_md = pd.read_parquet('data/lightcurves/elasticc_1/raw/features_Cepheid.parquet')\n",
    "\n",
    "grouped = df.groupby('SNID')\n",
    "first_detection_mjd = grouped.apply(lambda x: x[x['PHOTFLAG'].isin([4096, 6144])]['MJD'].min())\n",
    "last_detection_mjd = grouped.apply(lambda x: x[x['PHOTFLAG'].isin([4096, 6144])]['MJD'].max())\n",
    "df['first_detection_mjd'] = df['SNID'].map(first_detection_mjd)\n",
    "df['last_detection_mjd'] = df['SNID'].map(last_detection_mjd)\n",
    "df = df[(df['MJD'] >= df['first_detection_mjd'] - 30) & \n",
    "        (df['MJD'] <= df['last_detection_mjd'])]\n",
    "df = df.drop(columns=['first_detection_mjd', 'last_detection_mjd'])\n",
    "df = df[df['PHOTFLAG'] != 1024]\n",
    "df[band_name] = df[band_name].replace(all_bands)\n",
    "df"
   ]
  },
  {
   "cell_type": "code",
   "execution_count": 9,
   "metadata": {},
   "outputs": [
    {
     "name": "stderr",
     "output_type": "stream",
     "text": [
      "/tmp/ipykernel_3561561/4291668076.py:8: DeprecationWarning: DataFrameGroupBy.apply operated on the grouping columns. This behavior is deprecated, and in a future version of pandas the grouping columns will be excluded from the operation. Either pass `include_groups=False` to exclude the groupings or explicitly select the grouping columns after groupby to silence this warning.\n",
      "  return df.groupby([dict_columns['snid']]).apply(min_max_normalize_lc, dict_columns=dict_columns).reset_index(drop=True)\n"
     ]
    }
   ],
   "source": [
    "def min_max_normalize_lc(group, dict_columns):\n",
    "    for col in [dict_columns['flux'], dict_columns['flux_err'], dict_columns['mjd']]:\n",
    "        group[col] = (group[col] - group[col].min()) / (group[col].max() - group[col].min())\n",
    "    return group\n",
    "\n",
    "def get_normalization(df, norm_name, dict_columns):\n",
    "    if norm_name == 'minmax_by_obj':\n",
    "        return df.groupby([dict_columns['snid']]).apply(min_max_normalize_lc, dict_columns=dict_columns).reset_index(drop=True)\n",
    "    else:\n",
    "        raise 'The selected normalization has not been implemented...'\n",
    "\n",
    "df = get_normalization(df, config['norm_name'], dict_columns)"
   ]
  },
  {
   "cell_type": "code",
   "execution_count": 10,
   "metadata": {},
   "outputs": [],
   "source": [
    "fig_params = {\n",
    "    #'figsize': [3.84, 3.84],\n",
    "    'figsize': [2.24, 2.24],\n",
    "    'fmt': '-o', #-o\n",
    "    'markersize': 3, # 2.5,\n",
    "    'linewidth': 1.5, # 1.2,\n",
    "    'colors': {\n",
    "      0: '#00FF7F',  # Cercano al verde\n",
    "      1: '#7FFF00',  # Cercano al verde\n",
    "      2: '#FF007F',  # Cercano al rojo\n",
    "      3: '#FF7F00',  # Cercano al rojo\n",
    "      4: '#007FFF',  # Cercano al azul\n",
    "      5: '#7F00FF',   # Cercano al azul\n",
    "    },\n",
    "    'alpha': 0.5,\n",
    "    'ylim': [-0.05, 1.05],\n",
    "}"
   ]
  },
  {
   "cell_type": "code",
   "execution_count": 184,
   "metadata": {},
   "outputs": [
    {
     "data": {
      "image/png": "[encoded data removed]",
      "text/plain": [
       "<Figure size 224x224 with 1 Axes>"
      ]
     },
     "metadata": {},
     "output_type": "display_data"
    }
   ],
   "source": [
    "for i, obj_id in enumerate(df[dict_columns['snid']].unique()):\n",
    "    obj_df = df[df[dict_columns['snid']] == obj_id]\n",
    "\n",
    "    # Generar la imagen\n",
    "    fig = plt.figure(figsize=(fig_params['figsize']))\n",
    "    ax = fig.add_subplot(1, 1, 1)\n",
    "    plt.subplots_adjust(left=0, right=1, top=1, bottom=0)\n",
    "\n",
    "    for j in range(len(all_bands)):\n",
    "        band_data = obj_df[obj_df[dict_columns['band']] == j]\n",
    "\n",
    "        if band_data.empty:\n",
    "            ax.add_patch(patches.Rectangle((0, 0), 1, 1, color='white', transform=ax.transAxes))\n",
    "        else:\n",
    "            ax.errorbar(band_data[dict_columns['mjd']], \n",
    "                        band_data[dict_columns['flux']], \n",
    "                        yerr=band_data[dict_columns['flux_err']] if config['use_err'] else None,\n",
    "                        color=fig_params['colors'][j],\n",
    "                        fmt=fig_params['fmt'], \n",
    "                        alpha=fig_params['alpha'], \n",
    "                        markersize=fig_params['markersize'], \n",
    "                        linewidth=fig_params['linewidth'])\n",
    "\n",
    "        ax.set_ylim(fig_params['ylim'])\n",
    "        ax.axis('off')\n",
    "\n",
    "    plt.show()\n",
    "\n",
    "    break"
   ]
  },
  {
   "cell_type": "code",
   "execution_count": 185,
   "metadata": {},
   "outputs": [
    {
     "data": {
      "text/plain": [
       "{'u': 0, 'g': 1, 'r': 2, 'i': 3, 'z': 4, 'Y': 5}"
      ]
     },
     "execution_count": 185,
     "metadata": {},
     "output_type": "execute_result"
    }
   ],
   "source": [
    "all_bands"
   ]
  },
  {
   "cell_type": "code",
   "execution_count": 186,
   "metadata": {},
   "outputs": [
    {
     "data": {
      "image/png": "[encoded data removed]",
      "text/plain": [
       "<Figure size 224x224 with 6 Axes>"
      ]
     },
     "metadata": {},
     "output_type": "display_data"
    }
   ],
   "source": [
    "fig, axs = plt.subplots(2, 3, figsize=(2.24, 2.24))  # Dos filas y tres columnas\n",
    "for band_key, j in all_bands.items():\n",
    "    row, col = divmod(j, 3)\n",
    "    band_data = obj_df[obj_df[dict_columns['band']] == j]\n",
    "\n",
    "    if band_data.empty:\n",
    "        axs[row, col].add_patch(patches.Rectangle((0, 0), 1, 1, color='white', transform=axs[row, col].transAxes))\n",
    "    else:\n",
    "        axs[row, col].errorbar(band_data[dict_columns['mjd']], \n",
    "                               band_data[dict_columns['flux']], \n",
    "                               yerr=band_data[dict_columns['flux_err']] if config['use_err'] else None,\n",
    "                               color=fig_params['colors'][j],\n",
    "                               fmt=fig_params['fmt'], \n",
    "                               alpha=fig_params['alpha'], \n",
    "                               markersize=fig_params['markersize'], \n",
    "                               linewidth=fig_params['linewidth'])\n",
    "\n",
    "    axs[row, col].set_ylim(fig_params['ylim'])\n",
    "    axs[row, col].axis('off')\n",
    "\n",
    "plt.subplots_adjust(left=0, right=1, top=1, bottom=0, wspace=0, hspace=0)\n",
    "\n",
    "# Agregar rectángulos para las columnas\n",
    "for col in range(3):\n",
    "    rect = patches.Rectangle((col/3, 0), 1/3, 1, linewidth=0.3, edgecolor='black', facecolor='none', transform=fig.transFigure)\n",
    "    fig.add_artist(rect)\n",
    "\n",
    "# Agregar rectángulos para las filas\n",
    "for row in range(2):\n",
    "    rect = patches.Rectangle((0, row/2), 1, 0.5, linewidth=0.3, edgecolor='black', facecolor='none', transform=fig.transFigure)\n",
    "    fig.add_artist(rect)\n",
    "\n",
    "plt.show()"
   ]
  },
  {
   "cell_type": "markdown",
   "metadata": {},
   "source": [
    "### ASTROMER: Alcock (Single Band)"
   ]
  },
  {
   "cell_type": "code",
   "execution_count": 198,
   "metadata": {},
   "outputs": [
    {
     "name": "stderr",
     "output_type": "stream",
     "text": [
      "/tmp/ipykernel_1408354/4291668076.py:8: DeprecationWarning: DataFrameGroupBy.apply operated on the grouping columns. This behavior is deprecated, and in a future version of pandas the grouping columns will be excluded from the operation. Either pass `include_groups=False` to exclude the groupings or explicitly select the grouping columns after groupby to silence this warning.\n",
      "  return df.groupby([dict_columns['snid']]).apply(min_max_normalize_lc, dict_columns=dict_columns).reset_index(drop=True)\n"
     ]
    },
    {
     "data": {
      "text/html": [
       "<div>\n",
       "<style scoped>\n",
       "    .dataframe tbody tr th:only-of-type {\n",
       "        vertical-align: middle;\n",
       "    }\n",
       "\n",
       "    .dataframe tbody tr th {\n",
       "        vertical-align: top;\n",
       "    }\n",
       "\n",
       "    .dataframe thead th {\n",
       "        text-align: right;\n",
       "    }\n",
       "</style>\n",
       "<table border=\"1\" class=\"dataframe\">\n",
       "  <thead>\n",
       "    <tr style=\"text-align: right;\">\n",
       "      <th></th>\n",
       "      <th>lcid</th>\n",
       "      <th>lc_data</th>\n",
       "      <th>label</th>\n",
       "      <th>mjd</th>\n",
       "      <th>flux</th>\n",
       "      <th>flux_err</th>\n",
       "    </tr>\n",
       "  </thead>\n",
       "  <tbody>\n",
       "    <tr>\n",
       "      <th>0</th>\n",
       "      <td>b'1.3565.47'</td>\n",
       "      <td>[48824.645, -8.224, 0.008]</td>\n",
       "      <td>0</td>\n",
       "      <td>0.000000</td>\n",
       "      <td>0.641619</td>\n",
       "      <td>0.055556</td>\n",
       "    </tr>\n",
       "    <tr>\n",
       "      <th>1</th>\n",
       "      <td>b'1.3565.47'</td>\n",
       "      <td>[48885.605, -8.359, 0.004]</td>\n",
       "      <td>0</td>\n",
       "      <td>0.022438</td>\n",
       "      <td>0.381503</td>\n",
       "      <td>0.011111</td>\n",
       "    </tr>\n",
       "    <tr>\n",
       "      <th>2</th>\n",
       "      <td>b'1.3565.47'</td>\n",
       "      <td>[48888.723, -8.359, 0.006]</td>\n",
       "      <td>0</td>\n",
       "      <td>0.023585</td>\n",
       "      <td>0.381503</td>\n",
       "      <td>0.033333</td>\n",
       "    </tr>\n",
       "    <tr>\n",
       "      <th>3</th>\n",
       "      <td>b'1.3565.47'</td>\n",
       "      <td>[48896.758, -8.084, 0.007]</td>\n",
       "      <td>0</td>\n",
       "      <td>0.026542</td>\n",
       "      <td>0.911369</td>\n",
       "      <td>0.044444</td>\n",
       "    </tr>\n",
       "    <tr>\n",
       "      <th>4</th>\n",
       "      <td>b'1.3565.47'</td>\n",
       "      <td>[48908.445, -8.187, 0.004]</td>\n",
       "      <td>0</td>\n",
       "      <td>0.030844</td>\n",
       "      <td>0.712909</td>\n",
       "      <td>0.011111</td>\n",
       "    </tr>\n",
       "    <tr>\n",
       "      <th>...</th>\n",
       "      <td>...</td>\n",
       "      <td>...</td>\n",
       "      <td>...</td>\n",
       "      <td>...</td>\n",
       "      <td>...</td>\n",
       "      <td>...</td>\n",
       "    </tr>\n",
       "    <tr>\n",
       "      <th>9734</th>\n",
       "      <td>b'82.8408.27'</td>\n",
       "      <td>[51514.684, -8.05, 0.004]</td>\n",
       "      <td>0</td>\n",
       "      <td>0.987881</td>\n",
       "      <td>0.732719</td>\n",
       "      <td>0.022472</td>\n",
       "    </tr>\n",
       "    <tr>\n",
       "      <th>9735</th>\n",
       "      <td>b'82.8408.27'</td>\n",
       "      <td>[51526.586, -8.098, 0.003]</td>\n",
       "      <td>0</td>\n",
       "      <td>0.992408</td>\n",
       "      <td>0.622121</td>\n",
       "      <td>0.011236</td>\n",
       "    </tr>\n",
       "    <tr>\n",
       "      <th>9736</th>\n",
       "      <td>b'82.8408.27'</td>\n",
       "      <td>[51531.64, -8.004, 0.006]</td>\n",
       "      <td>0</td>\n",
       "      <td>0.994331</td>\n",
       "      <td>0.838710</td>\n",
       "      <td>0.044944</td>\n",
       "    </tr>\n",
       "    <tr>\n",
       "      <th>9737</th>\n",
       "      <td>b'82.8408.27'</td>\n",
       "      <td>[51541.574, -8.19, 0.003]</td>\n",
       "      <td>0</td>\n",
       "      <td>0.998110</td>\n",
       "      <td>0.410139</td>\n",
       "      <td>0.011236</td>\n",
       "    </tr>\n",
       "    <tr>\n",
       "      <th>9738</th>\n",
       "      <td>b'82.8408.27'</td>\n",
       "      <td>[51546.543, -8.271, 0.004]</td>\n",
       "      <td>0</td>\n",
       "      <td>1.000000</td>\n",
       "      <td>0.223503</td>\n",
       "      <td>0.022472</td>\n",
       "    </tr>\n",
       "  </tbody>\n",
       "</table>\n",
       "<p>9739 rows × 6 columns</p>\n",
       "</div>"
      ],
      "text/plain": [
       "               lcid                     lc_data  label       mjd      flux  \\\n",
       "0      b'1.3565.47'  [48824.645, -8.224, 0.008]      0  0.000000  0.641619   \n",
       "1      b'1.3565.47'  [48885.605, -8.359, 0.004]      0  0.022438  0.381503   \n",
       "2      b'1.3565.47'  [48888.723, -8.359, 0.006]      0  0.023585  0.381503   \n",
       "3      b'1.3565.47'  [48896.758, -8.084, 0.007]      0  0.026542  0.911369   \n",
       "4      b'1.3565.47'  [48908.445, -8.187, 0.004]      0  0.030844  0.712909   \n",
       "...             ...                         ...    ...       ...       ...   \n",
       "9734  b'82.8408.27'   [51514.684, -8.05, 0.004]      0  0.987881  0.732719   \n",
       "9735  b'82.8408.27'  [51526.586, -8.098, 0.003]      0  0.992408  0.622121   \n",
       "9736  b'82.8408.27'   [51531.64, -8.004, 0.006]      0  0.994331  0.838710   \n",
       "9737  b'82.8408.27'   [51541.574, -8.19, 0.003]      0  0.998110  0.410139   \n",
       "9738  b'82.8408.27'  [51546.543, -8.271, 0.004]      0  1.000000  0.223503   \n",
       "\n",
       "      flux_err  \n",
       "0     0.055556  \n",
       "1     0.011111  \n",
       "2     0.033333  \n",
       "3     0.044444  \n",
       "4     0.011111  \n",
       "...        ...  \n",
       "9734  0.022472  \n",
       "9735  0.011236  \n",
       "9736  0.044944  \n",
       "9737  0.011236  \n",
       "9738  0.022472  \n",
       "\n",
       "[9739 rows x 6 columns]"
      ]
     },
     "execution_count": 198,
     "metadata": {},
     "output_type": "execute_result"
    }
   ],
   "source": [
    "dict_columns = {\n",
    "    'snid': 'lcid',\n",
    "    'mjd': 'mjd',\n",
    "    'flux': 'flux',\n",
    "    'flux_err': 'flux_err',\n",
    "    # photflag': 'detected',\n",
    "    # band': 'passband',\n",
    "    'label': 'label'\n",
    "}\n",
    "\n",
    "\n",
    "chunk_0 = pd.read_pickle('data/lightcurves/astromer/alcock/fold_0/alcock_20/train/Cep_0/chunk_0.pkl')\n",
    "chunk_0 = chunk_0.explode('lc_data')\n",
    "chunk_0[['mjd', 'flux', 'flux_err']] = pd.DataFrame(chunk_0['lc_data'].tolist(), \n",
    "                                                    index=chunk_0.index)\n",
    "\n",
    "# I removed the negative error magnitudes because it doesn't make sense\n",
    "chunk_0 = chunk_0[chunk_0['flux_err'] >= 0]     \n",
    "chunk_0 = get_normalization(chunk_0, config['norm_name'], dict_columns)\n",
    "chunk_0"
   ]
  },
  {
   "cell_type": "code",
   "execution_count": 211,
   "metadata": {},
   "outputs": [],
   "source": [
    "fig_params = {\n",
    "    #'figsize': [3.84, 3.84],\n",
    "    'figsize': [2.24, 2.24],\n",
    "    'fmt': '-o', #-o\n",
    "    'markersize': 2, # 2.5,\n",
    "    'linewidth': 0.5, # 1.2,\n",
    "    'colors': {\n",
    "      0: '#00FF7F',  # Cercano al verde\n",
    "      1: '#7FFF00',  # Cercano al verde\n",
    "      2: '#FF007F',  # Cercano al rojo\n",
    "      3: '#FF7F00',  # Cercano al rojo\n",
    "      4: '#007FFF',  # Cercano al azul\n",
    "      5: '#7F00FF',   # Cercano al azul\n",
    "    },\n",
    "    'alpha': 0.5,\n",
    "    'ylim': [-0.05, 1.05],\n",
    "}"
   ]
  },
  {
   "cell_type": "code",
   "execution_count": 212,
   "metadata": {},
   "outputs": [
    {
     "data": {
      "image/png": "[encoded data removed]",
      "text/plain": [
       "<Figure size 224x224 with 1 Axes>"
      ]
     },
     "metadata": {},
     "output_type": "display_data"
    }
   ],
   "source": [
    "for i, obj_id in enumerate(chunk_0[dict_columns['snid']].unique()):\n",
    "    obj_df = chunk_0[chunk_0[dict_columns['snid']] == obj_id]\n",
    "\n",
    "    plt.figure(figsize=fig_params['figsize'])\n",
    "    plt.errorbar(obj_df[dict_columns['mjd']], \n",
    "                obj_df[dict_columns['flux']],\n",
    "                yerr=obj_df[dict_columns['flux_err']] if config['use_err'] else None,\n",
    "                color=list(fig_params['colors'].values())[-1], \n",
    "                fmt=fig_params['fmt'], \n",
    "                alpha=fig_params['alpha'], \n",
    "                markersize=fig_params['markersize'],\n",
    "                linewidth=fig_params['linewidth'])\n",
    "    plt.axis('off')\n",
    "    plt.ylim(fig_params['ylim'])\n",
    "\n",
    "    plt.show()\n",
    "    break"
   ]
  },
  {
   "cell_type": "markdown",
   "metadata": {},
   "source": [
    "### ASTROMER: Alcock (Multi-Band)"
   ]
  },
  {
   "cell_type": "code",
   "execution_count": 11,
   "metadata": {},
   "outputs": [
    {
     "name": "stderr",
     "output_type": "stream",
     "text": [
      "/tmp/ipykernel_3561561/4291668076.py:8: DeprecationWarning: DataFrameGroupBy.apply operated on the grouping columns. This behavior is deprecated, and in a future version of pandas the grouping columns will be excluded from the operation. Either pass `include_groups=False` to exclude the groupings or explicitly select the grouping columns after groupby to silence this warning.\n",
      "  return df.groupby([dict_columns['snid']]).apply(min_max_normalize_lc, dict_columns=dict_columns).reset_index(drop=True)\n"
     ]
    },
    {
     "data": {
      "text/html": [
       "<div>\n",
       "<style scoped>\n",
       "    .dataframe tbody tr th:only-of-type {\n",
       "        vertical-align: middle;\n",
       "    }\n",
       "\n",
       "    .dataframe tbody tr th {\n",
       "        vertical-align: top;\n",
       "    }\n",
       "\n",
       "    .dataframe thead th {\n",
       "        text-align: right;\n",
       "    }\n",
       "</style>\n",
       "<table border=\"1\" class=\"dataframe\">\n",
       "  <thead>\n",
       "    <tr style=\"text-align: right;\">\n",
       "      <th></th>\n",
       "      <th>mjd</th>\n",
       "      <th>mag</th>\n",
       "      <th>err</th>\n",
       "      <th>lcid</th>\n",
       "      <th>band</th>\n",
       "    </tr>\n",
       "  </thead>\n",
       "  <tbody>\n",
       "    <tr>\n",
       "      <th>0</th>\n",
       "      <td>0.000000</td>\n",
       "      <td>0.912168</td>\n",
       "      <td>0.941860</td>\n",
       "      <td>11.8623.826</td>\n",
       "      <td>0</td>\n",
       "    </tr>\n",
       "    <tr>\n",
       "      <th>1</th>\n",
       "      <td>0.000355</td>\n",
       "      <td>0.773570</td>\n",
       "      <td>0.546512</td>\n",
       "      <td>11.8623.826</td>\n",
       "      <td>0</td>\n",
       "    </tr>\n",
       "    <tr>\n",
       "      <th>2</th>\n",
       "      <td>0.001075</td>\n",
       "      <td>0.881547</td>\n",
       "      <td>0.872093</td>\n",
       "      <td>11.8623.826</td>\n",
       "      <td>0</td>\n",
       "    </tr>\n",
       "    <tr>\n",
       "      <th>3</th>\n",
       "      <td>0.001449</td>\n",
       "      <td>0.759065</td>\n",
       "      <td>0.395349</td>\n",
       "      <td>11.8623.826</td>\n",
       "      <td>0</td>\n",
       "    </tr>\n",
       "    <tr>\n",
       "      <th>4</th>\n",
       "      <td>0.003278</td>\n",
       "      <td>0.741338</td>\n",
       "      <td>0.534884</td>\n",
       "      <td>11.8623.826</td>\n",
       "      <td>0</td>\n",
       "    </tr>\n",
       "    <tr>\n",
       "      <th>...</th>\n",
       "      <td>...</td>\n",
       "      <td>...</td>\n",
       "      <td>...</td>\n",
       "      <td>...</td>\n",
       "      <td>...</td>\n",
       "    </tr>\n",
       "    <tr>\n",
       "      <th>14728</th>\n",
       "      <td>0.998938</td>\n",
       "      <td>0.131054</td>\n",
       "      <td>0.031250</td>\n",
       "      <td>9.4637.24</td>\n",
       "      <td>1</td>\n",
       "    </tr>\n",
       "    <tr>\n",
       "      <th>14729</th>\n",
       "      <td>0.998971</td>\n",
       "      <td>0.116239</td>\n",
       "      <td>0.020833</td>\n",
       "      <td>9.4637.24</td>\n",
       "      <td>1</td>\n",
       "    </tr>\n",
       "    <tr>\n",
       "      <th>14730</th>\n",
       "      <td>0.999337</td>\n",
       "      <td>0.119088</td>\n",
       "      <td>0.010417</td>\n",
       "      <td>9.4637.24</td>\n",
       "      <td>1</td>\n",
       "    </tr>\n",
       "    <tr>\n",
       "      <th>14731</th>\n",
       "      <td>0.999649</td>\n",
       "      <td>0.114530</td>\n",
       "      <td>0.010417</td>\n",
       "      <td>9.4637.24</td>\n",
       "      <td>1</td>\n",
       "    </tr>\n",
       "    <tr>\n",
       "      <th>14732</th>\n",
       "      <td>1.000000</td>\n",
       "      <td>0.113390</td>\n",
       "      <td>0.052083</td>\n",
       "      <td>9.4637.24</td>\n",
       "      <td>1</td>\n",
       "    </tr>\n",
       "  </tbody>\n",
       "</table>\n",
       "<p>14733 rows × 5 columns</p>\n",
       "</div>"
      ],
      "text/plain": [
       "            mjd       mag       err         lcid  band\n",
       "0      0.000000  0.912168  0.941860  11.8623.826     0\n",
       "1      0.000355  0.773570  0.546512  11.8623.826     0\n",
       "2      0.001075  0.881547  0.872093  11.8623.826     0\n",
       "3      0.001449  0.759065  0.395349  11.8623.826     0\n",
       "4      0.003278  0.741338  0.534884  11.8623.826     0\n",
       "...         ...       ...       ...          ...   ...\n",
       "14728  0.998938  0.131054  0.031250    9.4637.24     1\n",
       "14729  0.998971  0.116239  0.020833    9.4637.24     1\n",
       "14730  0.999337  0.119088  0.010417    9.4637.24     1\n",
       "14731  0.999649  0.114530  0.010417    9.4637.24     1\n",
       "14732  1.000000  0.113390  0.052083    9.4637.24     1\n",
       "\n",
       "[14733 rows x 5 columns]"
      ]
     },
     "execution_count": 11,
     "metadata": {},
     "output_type": "execute_result"
    }
   ],
   "source": [
    "import glob\n",
    "\n",
    "dict_columns = {\n",
    "    'snid': 'lcid',\n",
    "    'mjd': 'mjd',\n",
    "    'flux': 'mag',\n",
    "    'flux_err': 'err',\n",
    "    # photflag': 'detected',\n",
    "    'band': 'band',\n",
    "    'label': 'label'\n",
    "}\n",
    "\n",
    "df_alcock = []\n",
    "\n",
    "for i, path in enumerate(glob.glob('data/lightcurves/alcock_multiband/raw/B/*')):\n",
    "    lcid = path.split('/')[-1].split('.dat')[0]\n",
    "    df_B = pd.read_csv(path)\n",
    "    df_B['lcid'] = lcid\n",
    "    df_B['band'] = 0\n",
    "    df_alcock.append(df_B)\n",
    "\n",
    "    df_R = pd.read_csv(f'data/lightcurves/alcock_multiband/raw/R/{lcid}.dat')\n",
    "    df_R['lcid'] = lcid\n",
    "    df_R['band'] = 1\n",
    "    df_alcock.append(df_R)\n",
    "\n",
    "    if i == 10:\n",
    "        break\n",
    "\n",
    "df_alcock = pd.concat(df_alcock)\n",
    "df_alcock = df_alcock[df_alcock['err'] >= 0]     \n",
    "df_alcock = get_normalization(df_alcock, config['norm_name'], dict_columns)\n",
    "df_alcock"
   ]
  },
  {
   "cell_type": "code",
   "execution_count": 12,
   "metadata": {},
   "outputs": [],
   "source": [
    "all_bands = {\n",
    "    'B': 0, \n",
    "    'R': 1, \n",
    "}\n",
    "\n",
    "fig_params = {\n",
    "    #'figsize': [3.84, 3.84],\n",
    "    'figsize': [2.56, 2.56],\n",
    "    'fmt': '-o', #-o\n",
    "    'markersize': 2., # 2.5,\n",
    "    'linewidth': 1., # 1.2,\n",
    "    'colors': {\n",
    "      0: '#FF007F',  # Cercano al rojo\n",
    "      1: '#FF7F00',  # Cercano al rojo\n",
    "      2: '#00FF7F',  # Cercano al verde\n",
    "      3: '#7FFF00',  # Cercano al verde\n",
    "      4: '#007FFF',  # Cercano al azul\n",
    "      5: '#7F00FF',   # Cercano al azul\n",
    "    },\n",
    "    'alpha': 0.5,\n",
    "    'ylim': [-0.05, 1.05],\n",
    "}"
   ]
  },
  {
   "cell_type": "code",
   "execution_count": 13,
   "metadata": {},
   "outputs": [
    {
     "data": {
      "image/png": "[encoded data removed]",
      "text/plain": [
       "<Figure size 224x224 with 2 Axes>"
      ]
     },
     "metadata": {},
     "output_type": "display_data"
    }
   ],
   "source": [
    "for i, obj_id in enumerate(df_alcock[dict_columns['snid']].unique()):\n",
    "    obj_df = df_alcock[df_alcock[dict_columns['snid']] == obj_id]\n",
    "\n",
    "    fig, axs = plt.subplots(2, 1, figsize=(2.24, 2.24))  # Dos filas y tres columnas\n",
    "    for band_key, j in all_bands.items():\n",
    "        #row, col = divmod(j, 2)\n",
    "        row = j\n",
    "        band_data = obj_df[obj_df[dict_columns['band']] == j]\n",
    "\n",
    "        if band_data.empty:\n",
    "            axs[row].add_patch(patches.Rectangle((0, 0), 1, 1, color='white', transform=axs[row].transAxes))\n",
    "        else:\n",
    "            axs[row].errorbar(band_data[dict_columns['mjd']], \n",
    "                              band_data[dict_columns['flux']], \n",
    "                              yerr=band_data[dict_columns['flux_err']] if config['use_err'] else None,\n",
    "                              color=fig_params['colors'][j],\n",
    "                              fmt=fig_params['fmt'], \n",
    "                              alpha=fig_params['alpha'], \n",
    "                              markersize=fig_params['markersize'], \n",
    "                              linewidth=fig_params['linewidth'])\n",
    "\n",
    "        axs[row].set_ylim(fig_params['ylim'])\n",
    "        axs[row].axis('off')\n",
    "\n",
    "    plt.subplots_adjust(left=0, right=1, top=1, bottom=0, wspace=0, hspace=0)\n",
    "\n",
    "    # Cuadrado grande (borde exterior)\n",
    "    rect = patches.Rectangle((0, 0), 1, 1, linewidth=1.5, edgecolor='black', facecolor='none', transform=fig.transFigure)\n",
    "    fig.add_artist(rect)\n",
    "\n",
    "    # Línea entre las filas\n",
    "    rect = patches.Rectangle((0, 0.5), 1, 0, linewidth=0.3, edgecolor='black', facecolor='none', transform=fig.transFigure)\n",
    "    fig.add_artist(rect)\n",
    "\n",
    "    plt.show()\n",
    "\n",
    "    break"
   ]
  },
  {
   "cell_type": "code",
   "execution_count": 14,
   "metadata": {},
   "outputs": [
    {
     "data": {
      "image/png": "[encoded data removed]",
      "text/plain": [
       "<Figure size 256x256 with 1 Axes>"
      ]
     },
     "metadata": {},
     "output_type": "display_data"
    }
   ],
   "source": [
    "for i, obj_id in enumerate(df_alcock[dict_columns['snid']].unique()):\n",
    "    obj_df = df_alcock[df_alcock[dict_columns['snid']] == obj_id]\n",
    "\n",
    "    # Generar la imagen\n",
    "    fig = plt.figure(figsize=(fig_params['figsize']))\n",
    "    ax = fig.add_subplot(1, 1, 1)\n",
    "    plt.subplots_adjust(left=0, right=1, top=1, bottom=0)\n",
    "\n",
    "    for j in range(len(all_bands)):\n",
    "        if j == 1:\n",
    "            band_data = obj_df[obj_df[dict_columns['band']] == j]\n",
    "\n",
    "            if band_data.empty:\n",
    "                ax.add_patch(patches.Rectangle((0, 0), 1, 1, color='white', transform=ax.transAxes))\n",
    "            else:\n",
    "                ax.errorbar(band_data[dict_columns['mjd']], \n",
    "                            band_data[dict_columns['flux']], \n",
    "                            yerr=band_data[dict_columns['flux_err']] if config['use_err'] else None,\n",
    "                            color=fig_params['colors'][j],\n",
    "                            fmt=fig_params['fmt'], \n",
    "                            alpha=fig_params['alpha'], \n",
    "                            markersize=fig_params['markersize'], \n",
    "                            linewidth=fig_params['linewidth'])\n",
    "\n",
    "            ax.set_ylim(fig_params['ylim'])\n",
    "            ax.axis('off')\n",
    "\n",
    "    plt.show()\n",
    "\n",
    "    break"
   ]
  },
  {
   "cell_type": "code",
   "execution_count": null,
   "metadata": {},
   "outputs": [],
   "source": []
  }
 ],
 "metadata": {
  "kernelspec": {
   "display_name": "VLT",
   "language": "python",
   "name": "python3"
  },
  "language_info": {
   "codemirror_mode": {
    "name": "ipython",
    "version": 3
   },
   "file_extension": ".py",
   "mimetype": "text/x-python",
   "name": "python",
   "nbconvert_exporter": "python",
   "pygments_lexer": "ipython3",
   "version": "3.11.5"
  }
 },
 "nbformat": 4,
 "nbformat_minor": 2
}
