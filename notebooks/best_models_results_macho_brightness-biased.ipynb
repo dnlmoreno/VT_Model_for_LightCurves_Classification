{
 "cells": [
  {
   "cell_type": "code",
   "execution_count": 1,
   "metadata": {},
   "outputs": [
    {
     "name": "stdout",
     "output_type": "stream",
     "text": [
      "/home/users/dmoreno2016/VT_Model_for_LightCurves_Classification\n"
     ]
    },
    {
     "name": "stderr",
     "output_type": "stream",
     "text": [
      "/home/users/dmoreno2016/miniconda3/envs/visualtrans_git/lib/python3.10/site-packages/IPython/core/magics/osm.py:417: UserWarning: This is now an optional IPython functionality, setting dhist requires you to install the `pickleshare` library.\n",
      "  self.shell.db['dhist'] = compress_dhist(dhist)[-100:]\n"
     ]
    }
   ],
   "source": [
    "%cd ../"
   ]
  },
  {
   "cell_type": "code",
   "execution_count": 2,
   "metadata": {},
   "outputs": [],
   "source": [
    "import mlflow\n",
    "import pandas as pd\n",
    "import matplotlib.pyplot as plt\n",
    "import os\n",
    "#os.environ[\"PATH\"] = \"/home/users/dmoreno2016/.TinyTeX/bin/x86_64-linux:\" + os.environ[\"PATH\"]\n",
    "\n",
    "plt.rcParams.update({\n",
    "    \"text.usetex\": True,\n",
    "    \"pgf.texsystem\": \"pdflatex\",\n",
    "    \"font.family\": \"serif\",\n",
    "    \"font.serif\": [\"Palatino\"],\n",
    "})\n",
    "\n",
    "\n",
    "import warnings\n",
    "warnings.filterwarnings('ignore')"
   ]
  },
  {
   "cell_type": "code",
   "execution_count": 5,
   "metadata": {},
   "outputs": [],
   "source": [
    "mlflow.set_tracking_uri(\"file:./results/ml-runs\")"
   ]
  },
  {
   "cell_type": "code",
   "execution_count": 6,
   "metadata": {},
   "outputs": [
    {
     "name": "stdout",
     "output_type": "stream",
     "text": [
      "Experiment ID for 'ft_classification/macho_multiband/best_params': 241827995979661800\n"
     ]
    },
    {
     "data": {
      "text/html": [
       "<div>\n",
       "<style scoped>\n",
       "    .dataframe tbody tr th:only-of-type {\n",
       "        vertical-align: middle;\n",
       "    }\n",
       "\n",
       "    .dataframe tbody tr th {\n",
       "        vertical-align: top;\n",
       "    }\n",
       "\n",
       "    .dataframe thead th {\n",
       "        text-align: right;\n",
       "    }\n",
       "</style>\n",
       "<table border=\"1\" class=\"dataframe\">\n",
       "  <thead>\n",
       "    <tr style=\"text-align: right;\">\n",
       "      <th></th>\n",
       "      <th>Linewidth</th>\n",
       "      <th>Markersize</th>\n",
       "      <th>Input Type</th>\n",
       "      <th>Use Error</th>\n",
       "      <th>Learning Rate</th>\n",
       "      <th>SPC</th>\n",
       "      <th>avg_f1/test</th>\n",
       "      <th>std_f1/test</th>\n",
       "      <th>avg_loss/test</th>\n",
       "      <th>std_loss/test</th>\n",
       "      <th>avg_training_time</th>\n",
       "      <th>std_training_time</th>\n",
       "    </tr>\n",
       "  </thead>\n",
       "  <tbody>\n",
       "    <tr>\n",
       "      <th>0</th>\n",
       "      <td>0.5</td>\n",
       "      <td>2.0</td>\n",
       "      <td>overlay</td>\n",
       "      <td>True</td>\n",
       "      <td>5e-05</td>\n",
       "      <td>20</td>\n",
       "      <td>0.557982</td>\n",
       "      <td>0.049306</td>\n",
       "      <td>1.349229</td>\n",
       "      <td>0.158774</td>\n",
       "      <td>0 days 00:06:40.830000</td>\n",
       "      <td>0 days 00:01:20.634147673</td>\n",
       "    </tr>\n",
       "    <tr>\n",
       "      <th>1</th>\n",
       "      <td>1.0</td>\n",
       "      <td>2.0</td>\n",
       "      <td>2grid</td>\n",
       "      <td>False</td>\n",
       "      <td>5e-05</td>\n",
       "      <td>500</td>\n",
       "      <td>0.747423</td>\n",
       "      <td>0.011709</td>\n",
       "      <td>0.948237</td>\n",
       "      <td>0.184621</td>\n",
       "      <td>0 days 00:14:56.757000</td>\n",
       "      <td>0 days 00:02:07.099819468</td>\n",
       "    </tr>\n",
       "    <tr>\n",
       "      <th>2</th>\n",
       "      <td>1.0</td>\n",
       "      <td>3.0</td>\n",
       "      <td>overlay</td>\n",
       "      <td>True</td>\n",
       "      <td>5e-05</td>\n",
       "      <td>500</td>\n",
       "      <td>0.728466</td>\n",
       "      <td>0.015244</td>\n",
       "      <td>1.421596</td>\n",
       "      <td>0.142970</td>\n",
       "      <td>0 days 00:28:23.736333333</td>\n",
       "      <td>0 days 00:03:43.682032274</td>\n",
       "    </tr>\n",
       "    <tr>\n",
       "      <th>3</th>\n",
       "      <td>2.0</td>\n",
       "      <td>1.0</td>\n",
       "      <td>2grid</td>\n",
       "      <td>True</td>\n",
       "      <td>5e-05</td>\n",
       "      <td>20</td>\n",
       "      <td>0.516427</td>\n",
       "      <td>0.069799</td>\n",
       "      <td>1.533327</td>\n",
       "      <td>0.154623</td>\n",
       "      <td>0 days 00:05:56.434333333</td>\n",
       "      <td>0 days 00:01:57.401976143</td>\n",
       "    </tr>\n",
       "  </tbody>\n",
       "</table>\n",
       "</div>"
      ],
      "text/plain": [
       "  Linewidth Markersize Input Type Use Error Learning Rate  SPC  avg_f1/test  \\\n",
       "0       0.5        2.0    overlay      True         5e-05   20     0.557982   \n",
       "1       1.0        2.0      2grid     False         5e-05  500     0.747423   \n",
       "2       1.0        3.0    overlay      True         5e-05  500     0.728466   \n",
       "3       2.0        1.0      2grid      True         5e-05   20     0.516427   \n",
       "\n",
       "   std_f1/test  avg_loss/test  std_loss/test         avg_training_time  \\\n",
       "0     0.049306       1.349229       0.158774    0 days 00:06:40.830000   \n",
       "1     0.011709       0.948237       0.184621    0 days 00:14:56.757000   \n",
       "2     0.015244       1.421596       0.142970 0 days 00:28:23.736333333   \n",
       "3     0.069799       1.533327       0.154623 0 days 00:05:56.434333333   \n",
       "\n",
       "          std_training_time  \n",
       "0 0 days 00:01:20.634147673  \n",
       "1 0 days 00:02:07.099819468  \n",
       "2 0 days 00:03:43.682032274  \n",
       "3 0 days 00:01:57.401976143  "
      ]
     },
     "execution_count": 6,
     "metadata": {},
     "output_type": "execute_result"
    }
   ],
   "source": [
    "data_name =  'macho_multiband'\n",
    "experiment_name = f\"ft_classification/{data_name}/best_params\"\n",
    "\n",
    "experiment = mlflow.get_experiment_by_name(experiment_name)\n",
    "if experiment:\n",
    "    experiment_id = experiment.experiment_id\n",
    "    print(f\"Experiment ID for '{experiment_name}': {experiment_id}\")\n",
    "else:\n",
    "    print(f\"Experiment '{experiment_name}' not found.\")\n",
    "\n",
    "runs = mlflow.search_runs(experiment_ids=[experiment_id])\n",
    "\n",
    "order_columns = [\n",
    "    'run_id',\n",
    "    'status',\n",
    "    'metrics.epoch',\n",
    "    'metrics.f1/test',\n",
    "    'metrics.loss/test',\n",
    "    'params.imgs_params/fig_params/linewidth',\n",
    "    'params.imgs_params/fig_params/markersize',\n",
    "    'params.imgs_params/input_type',\n",
    "    'params.imgs_params/use_err',\n",
    "    'params.training/lr',\n",
    "    'params.loader/spc',\n",
    "    'start_time',\n",
    "    'end_time',\n",
    "]\n",
    "\n",
    "show_df = runs[order_columns]\n",
    "show_df.loc[:, 'training_time'] = show_df['end_time'] - show_df['start_time']\n",
    "cols = show_df.columns.tolist()\n",
    "cols.insert(2, cols.pop(cols.index('training_time')))\n",
    "show_df = show_df[cols].drop(['end_time', 'start_time'], axis=1)\n",
    "show_df = show_df.sort_values(by=['metrics.f1/test'], ascending=False)\n",
    "\n",
    "group_columns = [\n",
    "    'params.imgs_params/fig_params/linewidth',\n",
    "    'params.imgs_params/fig_params/markersize',\n",
    "    'params.imgs_params/input_type',\n",
    "    'params.imgs_params/use_err',\n",
    "    'params.training/lr',\n",
    "    'params.loader/spc',\n",
    "]\n",
    "\n",
    "# Calculating the mean for metrics within each group\n",
    "multiband_stats = show_df.groupby(group_columns).agg({\n",
    "    'metrics.f1/test': ['mean', 'std'],\n",
    "    'metrics.loss/test': ['mean', 'std'],\n",
    "    'training_time': ['mean', 'std']\n",
    "}).reset_index()\n",
    "\n",
    "# Adjusting the rename dictionary to handle tuple column names\n",
    "rename_dict = {\n",
    "    ('params.imgs_params/fig_params/linewidth', ''): 'Linewidth',\n",
    "    ('params.imgs_params/fig_params/markersize', ''): 'Markersize',\n",
    "    ('params.imgs_params/input_type', ''): 'Input Type',\n",
    "    ('params.imgs_params/use_err', ''): 'Use Error',\n",
    "    ('params.training/lr', ''): 'Learning Rate',\n",
    "    ('metrics.f1/test', 'mean'): 'avg_f1/test',\n",
    "    ('metrics.f1/test', 'std'): 'std_f1/test',\n",
    "    ('metrics.loss/test', 'mean'): 'avg_loss/test',\n",
    "    ('metrics.loss/test', 'std'): 'std_loss/test',\n",
    "    ('training_time', 'mean'): 'avg_training_time',\n",
    "    ('training_time', 'std'): 'std_training_time',\n",
    "    ('params.loader/spc', ''): 'SPC'\n",
    "}\n",
    "\n",
    "# Renaming columns using the adjusted dictionary\n",
    "multiband_stats.columns = [rename_dict.get(col, col) for col in multiband_stats.columns]\n",
    "multiband_stats"
   ]
  },
  {
   "cell_type": "code",
   "execution_count": 14,
   "metadata": {},
   "outputs": [
    {
     "name": "stdout",
     "output_type": "stream",
     "text": [
      "avg overlay: [55.79822262 72.84656564]\n",
      "std overlay: [4.93058069 1.52439798]\n",
      "avg 2grid: [51.64273977 74.74225163]\n",
      "std 2grid: [6.97994393 1.17088527]\n"
     ]
    }
   ],
   "source": [
    "multiband_stats = multiband_stats[multiband_stats[\"SPC\"].isin([\"20\", \"500\", \"all\"])].sort_values(by=\"SPC\")\n",
    "overlay_multiband = multiband_stats[multiband_stats['Input Type'] == 'overlay']\n",
    "avg_overlay_multiband = overlay_multiband[\"avg_f1/test\"].values * 100\n",
    "std_overlay_multiband = overlay_multiband[\"std_f1/test\"].values * 100\n",
    "print('avg overlay:', avg_overlay_multiband)\n",
    "print('std overlay:', std_overlay_multiband)\n",
    "\n",
    "grid_multiband = multiband_stats[multiband_stats['Input Type'] == '2grid']\n",
    "avg_grid_multiband = grid_multiband[\"avg_f1/test\"].values * 100\n",
    "std_grid_multiband = grid_multiband[\"std_f1/test\"].values * 100\n",
    "print('avg 2grid:', avg_grid_multiband)\n",
    "print('std 2grid:', std_grid_multiband)"
   ]
  },
  {
   "cell_type": "code",
   "execution_count": null,
   "metadata": {},
   "outputs": [
    {
     "name": "stdout",
     "output_type": "stream",
     "text": [
      "Overlay: 55.80 ± 4.93 | 72.85 ± 1.52\n",
      "2Grid:   51.64 ± 6.98 | 74.74 ± 1.17\n"
     ]
    }
   ],
   "source": [
    "print(f\"Overlay: {avg_overlay_multiband[0]:.2f} ± {std_overlay_multiband[0]:.2f} | {avg_overlay_multiband[1]:.2f} ± {std_overlay_multiband[1]:.2f}\")\n",
    "print(f\"2Grid:   {avg_grid_multiband[0]:.2f} ± {std_grid_multiband[0]:.2f} | {avg_grid_multiband[1]:.2f} ± {std_grid_multiband[1]:.2f}\")"
   ]
  },
  {
   "cell_type": "code",
   "execution_count": 8,
   "metadata": {},
   "outputs": [
    {
     "name": "stdout",
     "output_type": "stream",
     "text": [
      "Experiment ID for 'ft_classification/macho/best_params': 197991169753779357\n"
     ]
    },
    {
     "data": {
      "text/html": [
       "<div>\n",
       "<style scoped>\n",
       "    .dataframe tbody tr th:only-of-type {\n",
       "        vertical-align: middle;\n",
       "    }\n",
       "\n",
       "    .dataframe tbody tr th {\n",
       "        vertical-align: top;\n",
       "    }\n",
       "\n",
       "    .dataframe thead th {\n",
       "        text-align: right;\n",
       "    }\n",
       "</style>\n",
       "<table border=\"1\" class=\"dataframe\">\n",
       "  <thead>\n",
       "    <tr style=\"text-align: right;\">\n",
       "      <th></th>\n",
       "      <th>Linewidth</th>\n",
       "      <th>Markersize</th>\n",
       "      <th>Input Type</th>\n",
       "      <th>Use Error</th>\n",
       "      <th>Learning Rate</th>\n",
       "      <th>SPC</th>\n",
       "      <th>avg_f1/test</th>\n",
       "      <th>std_f1/test</th>\n",
       "      <th>avg_loss/test</th>\n",
       "      <th>std_loss/test</th>\n",
       "      <th>avg_training_time</th>\n",
       "      <th>std_training_time</th>\n",
       "    </tr>\n",
       "  </thead>\n",
       "  <tbody>\n",
       "    <tr>\n",
       "      <th>0</th>\n",
       "      <td>1.0</td>\n",
       "      <td>1.0</td>\n",
       "      <td>overlay</td>\n",
       "      <td>True</td>\n",
       "      <td>5e-06</td>\n",
       "      <td>500</td>\n",
       "      <td>0.694755</td>\n",
       "      <td>0.017918</td>\n",
       "      <td>0.966322</td>\n",
       "      <td>0.066845</td>\n",
       "      <td>0 days 00:24:59.019000</td>\n",
       "      <td>0 days 00:03:40.825794208</td>\n",
       "    </tr>\n",
       "    <tr>\n",
       "      <th>1</th>\n",
       "      <td>1.5</td>\n",
       "      <td>5.0</td>\n",
       "      <td>overlay</td>\n",
       "      <td>True</td>\n",
       "      <td>5e-05</td>\n",
       "      <td>20</td>\n",
       "      <td>0.489102</td>\n",
       "      <td>0.014417</td>\n",
       "      <td>2.037017</td>\n",
       "      <td>0.252695</td>\n",
       "      <td>0 days 00:04:27.996666666</td>\n",
       "      <td>0 days 00:00:31.568745878</td>\n",
       "    </tr>\n",
       "  </tbody>\n",
       "</table>\n",
       "</div>"
      ],
      "text/plain": [
       "  Linewidth Markersize Input Type Use Error Learning Rate  SPC  avg_f1/test  \\\n",
       "0       1.0        1.0    overlay      True         5e-06  500     0.694755   \n",
       "1       1.5        5.0    overlay      True         5e-05   20     0.489102   \n",
       "\n",
       "   std_f1/test  avg_loss/test  std_loss/test         avg_training_time  \\\n",
       "0     0.017918       0.966322       0.066845    0 days 00:24:59.019000   \n",
       "1     0.014417       2.037017       0.252695 0 days 00:04:27.996666666   \n",
       "\n",
       "          std_training_time  \n",
       "0 0 days 00:03:40.825794208  \n",
       "1 0 days 00:00:31.568745878  "
      ]
     },
     "execution_count": 8,
     "metadata": {},
     "output_type": "execute_result"
    }
   ],
   "source": [
    "data_name =  'macho'\n",
    "experiment_name = f\"ft_classification/{data_name}/best_params\"\n",
    "\n",
    "experiment = mlflow.get_experiment_by_name(experiment_name)\n",
    "if experiment:\n",
    "    experiment_id = experiment.experiment_id\n",
    "    print(f\"Experiment ID for '{experiment_name}': {experiment_id}\")\n",
    "else:\n",
    "    print(f\"Experiment '{experiment_name}' not found.\")\n",
    "\n",
    "runs = mlflow.search_runs(experiment_ids=[experiment_id])\n",
    "\n",
    "order_columns = [\n",
    "    'run_id',\n",
    "    'status',\n",
    "    'metrics.epoch',\n",
    "    'metrics.f1/test',\n",
    "    'metrics.loss/test',\n",
    "    'params.imgs_params/fig_params/linewidth',\n",
    "    'params.imgs_params/fig_params/markersize',\n",
    "    'params.imgs_params/input_type',\n",
    "    'params.imgs_params/use_err',\n",
    "    'params.training/lr',\n",
    "    'params.loader/spc',\n",
    "    'start_time',\n",
    "    'end_time',\n",
    "]\n",
    "\n",
    "show_df = runs[order_columns]\n",
    "show_df.loc[:, 'training_time'] = show_df['end_time'] - show_df['start_time']\n",
    "cols = show_df.columns.tolist()\n",
    "cols.insert(2, cols.pop(cols.index('training_time')))\n",
    "show_df = show_df[cols].drop(['end_time', 'start_time'], axis=1)\n",
    "show_df = show_df.sort_values(by=['metrics.f1/test'], ascending=False)\n",
    "\n",
    "group_columns = [\n",
    "    'params.imgs_params/fig_params/linewidth',\n",
    "    'params.imgs_params/fig_params/markersize',\n",
    "    'params.imgs_params/input_type',\n",
    "    'params.imgs_params/use_err',\n",
    "    'params.training/lr',\n",
    "    'params.loader/spc',\n",
    "]\n",
    "\n",
    "# Calculating the mean for metrics within each group\n",
    "singleband_stats = show_df.groupby(group_columns).agg({\n",
    "    'metrics.f1/test': ['mean', 'std'],\n",
    "    'metrics.loss/test': ['mean', 'std'],\n",
    "    'training_time': ['mean', 'std']\n",
    "}).reset_index()\n",
    "\n",
    "# Adjusting the rename dictionary to handle tuple column names\n",
    "rename_dict = {\n",
    "    ('params.imgs_params/fig_params/linewidth', ''): 'Linewidth',\n",
    "    ('params.imgs_params/fig_params/markersize', ''): 'Markersize',\n",
    "    ('params.imgs_params/input_type', ''): 'Input Type',\n",
    "    ('params.imgs_params/use_err', ''): 'Use Error',\n",
    "    ('params.training/lr', ''): 'Learning Rate',\n",
    "    ('metrics.f1/test', 'mean'): 'avg_f1/test',\n",
    "    ('metrics.f1/test', 'std'): 'std_f1/test',\n",
    "    ('metrics.loss/test', 'mean'): 'avg_loss/test',\n",
    "    ('metrics.loss/test', 'std'): 'std_loss/test',\n",
    "    ('training_time', 'mean'): 'avg_training_time',\n",
    "    ('training_time', 'std'): 'std_training_time',\n",
    "    ('params.loader/spc', ''): 'SPC'\n",
    "}\n",
    "\n",
    "# Renaming columns using the adjusted dictionary\n",
    "singleband_stats.columns = [rename_dict.get(col, col) for col in singleband_stats.columns]\n",
    "singleband_stats\n",
    "\n",
    "#singleband_stats.drop([2], axis=0, inplace=True)"
   ]
  },
  {
   "cell_type": "code",
   "execution_count": 18,
   "metadata": {},
   "outputs": [
    {
     "name": "stdout",
     "output_type": "stream",
     "text": [
      "avg singleband: [48.91020656 69.47547197]\n",
      "std singleband: [1.44165279 1.79177653]\n"
     ]
    }
   ],
   "source": [
    "singleband_stats = singleband_stats[singleband_stats[\"SPC\"].isin([\"20\", \"500\", \"all\"])].sort_values(by=\"SPC\")\n",
    "overlay_singleband = singleband_stats[singleband_stats['Input Type'] == 'overlay']\n",
    "avg_f1_swinv2 = overlay_singleband[\"avg_f1/test\"].values * 100\n",
    "std_f1_swinv2 = overlay_singleband[\"std_f1/test\"].values * 100\n",
    "print('avg singleband:', avg_f1_swinv2)\n",
    "print('std singleband:', std_f1_swinv2)"
   ]
  },
  {
   "cell_type": "code",
   "execution_count": 19,
   "metadata": {},
   "outputs": [
    {
     "name": "stdout",
     "output_type": "stream",
     "text": [
      "One-band: 48.91 ± 1.44 | 69.48 ± 1.79\n"
     ]
    }
   ],
   "source": [
    "print(f\"One-band: {avg_f1_swinv2[0]:.2f} ± {std_f1_swinv2[0]:.2f} | {avg_f1_swinv2[1]:.2f} ± {std_f1_swinv2[1]:.2f}\")"
   ]
  },
  {
   "cell_type": "code",
   "execution_count": null,
   "metadata": {},
   "outputs": [],
   "source": []
  },
  {
   "cell_type": "code",
   "execution_count": null,
   "metadata": {},
   "outputs": [],
   "source": []
  }
 ],
 "metadata": {
  "kernelspec": {
   "display_name": "visualtrans_git",
   "language": "python",
   "name": "python3"
  },
  "language_info": {
   "codemirror_mode": {
    "name": "ipython",
    "version": 3
   },
   "file_extension": ".py",
   "mimetype": "text/x-python",
   "name": "python",
   "nbconvert_exporter": "python",
   "pygments_lexer": "ipython3",
   "version": "3.10.9"
  }
 },
 "nbformat": 4,
 "nbformat_minor": 4
}
