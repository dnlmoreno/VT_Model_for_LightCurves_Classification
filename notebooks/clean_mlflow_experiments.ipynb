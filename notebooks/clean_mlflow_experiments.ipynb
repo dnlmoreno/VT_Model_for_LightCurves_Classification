{
 "cells": [
  {
   "cell_type": "code",
   "execution_count": 1,
   "metadata": {},
   "outputs": [
    {
     "name": "stdout",
     "output_type": "stream",
     "text": [
      "/home/users/dmoreno2016/VT_Model_for_LightCurves_Classification\n"
     ]
    },
    {
     "name": "stderr",
     "output_type": "stream",
     "text": [
      "/home/users/dmoreno2016/miniconda3/envs/visualtrans_git/lib/python3.10/site-packages/IPython/core/magics/osm.py:417: UserWarning: This is now an optional IPython functionality, setting dhist requires you to install the `pickleshare` library.\n",
      "  self.shell.db['dhist'] = compress_dhist(dhist)[-100:]\n"
     ]
    }
   ],
   "source": [
    "%cd ../"
   ]
  },
  {
   "cell_type": "code",
   "execution_count": 2,
   "metadata": {},
   "outputs": [],
   "source": [
    "import os\n",
    "import shutil\n",
    "import mlflow\n",
    "from mlflow.tracking import MlflowClient\n",
    "\n",
    "mlflow.set_tracking_uri(\"file:./results/ml-runs\")"
   ]
  },
  {
   "cell_type": "code",
   "execution_count": 3,
   "metadata": {},
   "outputs": [
    {
     "name": "stdout",
     "output_type": "stream",
     "text": [
      "Experiment ID for 'ft_classification/macho/best_params': 197991169753779357\n",
      "Corridas huérfanas encontradas y eliminadas:\n",
      "Eliminando: results/ml-runs/197991169753779357/e4a1eecdfdfc496e9ffc3f216a802f3a\n",
      "Eliminando: results/ml-runs/197991169753779357/064921d3d979487189ff47fcc03e9224\n",
      "Eliminando: results/ml-runs/197991169753779357/8d61e4e97d4544bfb3ad7cdd1cb9d455\n",
      "Eliminando: results/ml-runs/197991169753779357/ba04abd8fdc949f4a9c5f7fe3eebdfe2\n"
     ]
    }
   ],
   "source": [
    "def get_mlflow_runs(experiment_id):\n",
    "    \"\"\" Obtener los IDs de las corridas activas de MLflow para un experimento específico. \"\"\"\n",
    "    client = MlflowClient()\n",
    "    runs = client.search_runs(experiment_ids=[experiment_id])\n",
    "    return {run.info.run_id for run in runs}\n",
    "\n",
    "def get_filesystem_runs(directory):\n",
    "    \"\"\" Obtener los IDs de las corridas desde los directorios del sistema de archivos. \"\"\"\n",
    "    return {run_id for run_id in os.listdir(directory) if os.path.isdir(os.path.join(directory, run_id))}\n",
    "\n",
    "def main(mlflow_directory, experiment_id):\n",
    "    \"\"\" Compara los IDs de las corridas en MLflow y en el sistema de archivos, eliminando las huérfanas. \"\"\"\n",
    "    mlflow_runs = get_mlflow_runs(experiment_id)\n",
    "    filesystem_runs = get_filesystem_runs(mlflow_directory)\n",
    "    \n",
    "    # Encuentra corridas en el sistema de archivos que no están en MLflow\n",
    "    orphaned_runs = filesystem_runs - mlflow_runs\n",
    "    \n",
    "    if orphaned_runs:\n",
    "        print(\"Corridas huérfanas encontradas y eliminadas:\")\n",
    "        for run_id in orphaned_runs:\n",
    "            run_path = os.path.join(mlflow_directory, run_id)\n",
    "            print(f\"Eliminando: {run_path}\")\n",
    "            shutil.rmtree(run_path)  # Elimina el directorio y su contenido\n",
    "    else:\n",
    "        print(\"No se encontraron corridas huérfanas.\")\n",
    "\n",
    "# Configuración de MLflow\n",
    "data_name = 'macho'\n",
    "experiment_name = f\"ft_classification/{data_name}/best_params\"\n",
    "\n",
    "experiment = mlflow.get_experiment_by_name(experiment_name)\n",
    "if experiment:\n",
    "    experiment_id = experiment.experiment_id\n",
    "    print(f\"Experiment ID for '{experiment_name}': {experiment_id}\")\n",
    "\n",
    "    mlflow_directory = f\"results/ml-runs/{experiment_id}\" \n",
    "    if os.path.exists(mlflow_directory):  # Verificar que la carpeta existe antes de continuar\n",
    "        main(mlflow_directory, experiment_id)\n",
    "    else:\n",
    "        print(f\"La carpeta {mlflow_directory} no existe.\")\n",
    "else:\n",
    "    print(f\"Experiment '{experiment_name}' not found.\")"
   ]
  },
  {
   "cell_type": "code",
   "execution_count": null,
   "metadata": {},
   "outputs": [],
   "source": []
  }
 ],
 "metadata": {
  "kernelspec": {
   "display_name": "visualtrans_git",
   "language": "python",
   "name": "python3"
  },
  "language_info": {
   "codemirror_mode": {
    "name": "ipython",
    "version": 3
   },
   "file_extension": ".py",
   "mimetype": "text/x-python",
   "name": "python",
   "nbconvert_exporter": "python",
   "pygments_lexer": "ipython3",
   "version": "3.10.9"
  }
 },
 "nbformat": 4,
 "nbformat_minor": 2
}
